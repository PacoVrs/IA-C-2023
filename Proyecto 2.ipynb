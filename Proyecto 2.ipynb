{
 "cells": [
  {
   "cell_type": "markdown",
   "id": "82dc0ca6-e390-43ae-8a65-fdd506332929",
   "metadata": {},
   "source": [
    "# Proyecto 2 - Detector de rostros con cubrebocas"
   ]
  },
  {
   "cell_type": "markdown",
   "id": "5405c88d-7c2c-4c01-9072-e8a3ff688db4",
   "metadata": {},
   "source": [
    "## Código para obtener el dataset"
   ]
  },
  {
   "cell_type": "code",
   "execution_count": 25,
   "id": "e9050c1a-0329-4a44-a424-6931dec8241d",
   "metadata": {},
   "outputs": [],
   "source": [
    "import cv2 as cv\n",
    "\n",
    "cap = cv.VideoCapture(0)\n",
    "i = 13122\n",
    "j = 3562\n",
    "dir = 'E:/ia/faceHaar/intento11/'\n",
    "\n",
    "while True:\n",
    "    ret, frame = cap.read()\n",
    "    frame = cv.rectangle(frame, (498,98), (802,402), (0,255,0), 2)\n",
    "    cara = frame[100:400, 500:800]\n",
    "    \n",
    "    nueva_escala = (200, 200)\n",
    "    cara = cv.resize(cara, nueva_escala)\n",
    "    caragrey = cv.cvtColor(cara, cv.COLOR_BGR2GRAY)\n",
    "\n",
    "    cv.imshow('cap', frame)\n",
    "    cv.imshow('cara', cara)\n",
    "    cv.imshow('caragris', caragrey)\n",
    "\n",
    "    k = cv.waitKey(1)\n",
    "    \n",
    "    if k == ord('1'):\n",
    "        i = i+1\n",
    "        cv.imwrite(dir+'backup/ncolor'+str(i)+'.jpg', cara)\n",
    "        cv.imwrite(dir+'n/grey'+str(i)+'.jpg', caragrey)\n",
    "    elif k == ord('2'):\n",
    "        j = j+1\n",
    "        cv.imwrite(dir+'backup/pcolor'+str(j)+'.jpg', cara)\n",
    "        cv.imwrite(dir+'p/grey'+str(j)+'.jpg', caragrey)\n",
    "    if k == 27:\n",
    "        break\n",
    "        \n",
    "cap.release()\n",
    "cv.destroyAllWindows()"
   ]
  },
  {
   "cell_type": "markdown",
   "id": "96ddd042-84c3-4b36-93f6-768344a9bc99",
   "metadata": {},
   "source": [
    "## Código para probar el xml"
   ]
  },
  {
   "cell_type": "code",
   "execution_count": 33,
   "id": "bd7206eb-ad28-4904-abc0-ab2687a39444",
   "metadata": {},
   "outputs": [],
   "source": [
    "import cv2 as cv\n",
    "\n",
    "rostro = cv.CascadeClassifier('E:/ia/faceHaar/intento10/classifier/cascade.xml')\n",
    "\n",
    "cap = cv.VideoCapture(0)\n",
    "i=0\n",
    "\n",
    "while True:\n",
    "    ret, frame = cap.read()\n",
    "    gray = cv.cvtColor(frame, cv.COLOR_BGR2GRAY)\n",
    "    rostros = rostro.detectMultiScale(gray, scaleFactor = 1.055, minNeighbors = 3)\n",
    "    \n",
    "    for (x, y, w, h) in rostros:\n",
    "        frame = cv.rectangle(frame, (x,y), (x+w, y+h), (255, 0, 0), 5)\n",
    "        \n",
    "    cv.imshow('rostros', frame)\n",
    "    \n",
    "    k = cv.waitKey(1)\n",
    "    \n",
    "    if k == 27:\n",
    "        break\n",
    "        \n",
    "cap.release()\n",
    "cv.destroyAllWindows()"
   ]
  },
  {
   "cell_type": "code",
   "execution_count": null,
   "id": "191a208e-fe74-4170-84cf-c1cb11c1f085",
   "metadata": {},
   "outputs": [],
   "source": []
  }
 ],
 "metadata": {
  "kernelspec": {
   "display_name": "Python 3 (ipykernel)",
   "language": "python",
   "name": "python3"
  },
  "language_info": {
   "codemirror_mode": {
    "name": "ipython",
    "version": 3
   },
   "file_extension": ".py",
   "mimetype": "text/x-python",
   "name": "python",
   "nbconvert_exporter": "python",
   "pygments_lexer": "ipython3",
   "version": "3.11.5"
  }
 },
 "nbformat": 4,
 "nbformat_minor": 5
}
